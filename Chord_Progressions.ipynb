{
 "cells": [
  {
   "cell_type": "code",
   "execution_count": 2,
   "id": "55175daa",
   "metadata": {},
   "outputs": [
    {
     "data": {
      "text/html": [
       "<style>.container { width:100% !important; }</style>"
      ],
      "text/plain": [
       "<IPython.core.display.HTML object>"
      ]
     },
     "metadata": {},
     "output_type": "display_data"
    },
    {
     "data": {
      "text/html": [
       "<style>.dataframe td { white-space: nowrap; }</style>"
      ],
      "text/plain": [
       "<IPython.core.display.HTML object>"
      ]
     },
     "metadata": {},
     "output_type": "display_data"
    }
   ],
   "source": [
    "import pandas as pd\n",
    "import numpy as np\n",
    "\n",
    "# jupyter notebook full-width display\n",
    "from IPython.core.display import display, HTML\n",
    "display(HTML(\"<style>.container { width:100% !important; }</style>\"))\n",
    "\n",
    "# no text wrapping\n",
    "display(HTML(\"<style>.dataframe td { white-space: nowrap; }</style>\"))"
   ]
  },
  {
   "cell_type": "markdown",
   "id": "10a7f247",
   "metadata": {},
   "source": [
    "# Theory Notes"
   ]
  },
  {
   "cell_type": "markdown",
   "id": "acad05ca",
   "metadata": {},
   "source": [
    "https://tobyrush.com/theorypages/index.html\n",
    "\n",
    "<img src=\".\\images\\tobyrush.png\" width=\"600\" />"
   ]
  },
  {
   "cell_type": "markdown",
   "id": "dfed71be",
   "metadata": {},
   "source": [
    "https://www.youtube.com/watch?v=YSKAt3pmYBs&ab_channel=ScottMurphy\n",
    "\n",
    "<img src=\".\\images\\scottmurphy.png\" width=\"600\" />"
   ]
  },
  {
   "cell_type": "markdown",
   "id": "ede75aff",
   "metadata": {},
   "source": [
    "#### Rick Beato\n",
    "https://www.youtube.com/@RickBeato\n",
    "* Write like John Williams (https://www.youtube.com/watch?v=xZtvm3DEQzY)\n",
    "    * 2 major triads, a tritone apart\n",
    "    * 2 major triads, a tone apart, with a pedal tone – lydian sound\n",
    "    * Minor triad, down a minor third to a major triad, pedal tone\n",
    "    * Minor triad, up a major third to a minor triad\n",
    "* What the pros know (https://www.youtube.com/watch?v=7J8KrZjs6uk)\n",
    "    * Chords/triads\n",
    "        * Cmaj: Bdim, F-lyd, sus4 works on all but Bdim\n",
    "        * Aug only lives in harmonic/melodic scales: Caug in Am harmonic\n",
    "    * Scales (major modes) | semitones = colour characteristics\n",
    "        * Cmaj, colour notes are: E/F and B/C\n",
    "\n",
    "<img src=\".\\images\\rickbeato1.png\" width=\"600\" />\n",
    "\n",
    "<img src=\".\\images\\rickbeato2.png\" width=\"600\" />\n",
    "\n",
    "\n",
    "\n"
   ]
  },
  {
   "cell_type": "markdown",
   "id": "b0846e28",
   "metadata": {},
   "source": [
    "# Calculations"
   ]
  },
  {
   "cell_type": "code",
   "execution_count": 140,
   "id": "54347400",
   "metadata": {},
   "outputs": [
    {
     "data": {
      "text/plain": [
       "['A', 'B', 'C', 'D', 'E', 'F', 'G#']"
      ]
     },
     "execution_count": 140,
     "metadata": {},
     "output_type": "execute_result"
    }
   ],
   "source": [
    "class Scale:\n",
    "    MODES = {\n",
    "        'ionian': [0, 2, 4, 5, 7, 9, 11], \n",
    "        'major': [0, 2, 4, 5, 7, 9, 11], \n",
    "        'hungarian_major': [0, 3, 4, 6, 7, 9, 10],\n",
    "        'dorian': [0, 2, 3, 5, 7, 9, 10], \n",
    "        'phrygian': [0, 1, 3, 5, 7, 8, 10], \n",
    "        'lydian': [0, 2, 4, 6, 7, 9, 11], \n",
    "        'mixolydian': [0, 2, 4, 5, 7, 9, 10], \n",
    "        'mixolydian_flat6': [0, 2, 4, 5, 7, 8, 10],\n",
    "        'minor': [0, 2, 3, 5, 7, 8, 10],\n",
    "        'aeolian': [0, 2, 3, 5, 7, 8, 10], \n",
    "        'harmonic_minor': [0, 2, 3, 5, 7, 8, 11],\n",
    "        'melodic_minor': [0, 2, 3, 5, 7, 9, 11],\n",
    "        'hungarian_minor': [0, 2, 3, 6, 7, 8, 11],\n",
    "        'locrian': [0, 1, 3, 5, 6, 8, 10],\n",
    "        'super_locrian': [0, 1, 3, 4, 6, 8, 10],\n",
    "        'lydian_augmented': [0, 2, 4, 6, 8, 9, 11],\n",
    "        'bhairav': [0, 1, 4, 5, 7, 8, 11],\n",
    "    }\n",
    "    _NOTES = ['A', 'B', 'C', 'D', 'E', 'F', 'G']\n",
    "\n",
    "    def __init__(self, root, mode):\n",
    "        if root[0] not in self._NOTES:\n",
    "            raise ValueError(f\"Invalid root note. Valid notes are: {self._NOTES} (including sharps and flats)\")\n",
    "        elif len(root) > 2:\n",
    "            raise ValueError(f\"Invalid root note. Valid notes are: {self._NOTES} (including sharps and flats as '#' or 'b')\")\n",
    "        elif len(root) == 2 and root[1] not in ['#', 'b']:\n",
    "            raise ValueError(f\"Invalid root note. Valid notes are: {self._NOTES} (including sharps and flats as '#' or 'b')\")\n",
    "        self.root = root.title()\n",
    "        if mode not in self.MODES.keys():\n",
    "            raise ValueError(f\"Invalid mode. Valid modes are: {self.MODES.keys()}\")\n",
    "        self.mode = mode\n",
    "        \n",
    "    @property\n",
    "    def notes(self):\n",
    "        notes = self._NOTES.copy()\n",
    "        mode = self.MODES[self.mode][1:].copy()\n",
    "        root = self.root[0]\n",
    "\n",
    "        if root not in notes:\n",
    "            raise Exception('Invalid root note')\n",
    "        while notes[0] != root:\n",
    "            notes.append(notes.pop(0))\n",
    "\n",
    "        # add sharp/flat to root note\n",
    "        if len(self.root) == 2:\n",
    "            if self.root[1] == '#':\n",
    "                notes[0] = notes[0] + '#'\n",
    "            elif self.root[1] == 'b':\n",
    "                notes[0] = notes[0] + 'b'\n",
    "        \n",
    "        # loop through and add sharps/flats\n",
    "        last_x = 0\n",
    "        for i, x in enumerate(mode):\n",
    "            current_note = notes[i]\n",
    "            semitones = x - last_x\n",
    "            last_x = x\n",
    "\n",
    "            if len(current_note) == 1:\n",
    "                distance_to_next_note = 1 if current_note in ['B', 'E'] else 2\n",
    "            elif len(current_note) == 2:\n",
    "                distance_to_next_note = 1 if current_note[0] in ['B', 'E'] else 2\n",
    "                distance_to_next_note -= 1 if current_note[1] == '#' else -1\n",
    "\n",
    "            if semitones == distance_to_next_note + 1:\n",
    "                notes[i+1] = notes[i+1] + '#'\n",
    "            elif semitones == distance_to_next_note - 1:\n",
    "                notes[i+1] = notes[i+1] + 'b'\n",
    "            elif semitones == distance_to_next_note + 2:\n",
    "                notes[i+1] = notes[i+1] + '##'\n",
    "            elif semitones == distance_to_next_note - 2:\n",
    "                notes[i+1] = notes[i+1] + 'bb'\n",
    "            \n",
    "            # # debug\n",
    "            # print(f\"{current_note} {i} ({semitones})\")\n",
    "\n",
    "        return notes\n",
    "\n",
    "\n",
    "testScale = Scale('A', 'harmonic_minor')\n",
    "testScale.notes"
   ]
  },
  {
   "cell_type": "code",
   "execution_count": null,
   "id": "84b3f78e",
   "metadata": {},
   "outputs": [],
   "source": []
  },
  {
   "cell_type": "code",
   "execution_count": null,
   "id": "f1c47748",
   "metadata": {},
   "outputs": [],
   "source": []
  }
 ],
 "metadata": {
  "kernelspec": {
   "display_name": "Python 3 (ipykernel)",
   "language": "python",
   "name": "python3"
  },
  "language_info": {
   "codemirror_mode": {
    "name": "ipython",
    "version": 3
   },
   "file_extension": ".py",
   "mimetype": "text/x-python",
   "name": "python",
   "nbconvert_exporter": "python",
   "pygments_lexer": "ipython3",
   "version": "3.9.7"
  },
  "vscode": {
   "interpreter": {
    "hash": "9f4f70181dd95a9d562a70f836fcadba96ae89ae4a502bd83f1e00f915c26e41"
   }
  }
 },
 "nbformat": 4,
 "nbformat_minor": 5
}
